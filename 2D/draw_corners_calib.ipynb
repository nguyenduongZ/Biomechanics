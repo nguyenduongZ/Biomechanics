{
 "cells": [
  {
   "cell_type": "code",
   "execution_count": 3,
   "id": "d0683a6b-6601-4856-9499-ce522712d117",
   "metadata": {},
   "outputs": [],
   "source": [
    "import cv2\n",
    "import numpy as np\n",
    "import time  # Thêm thư viện time để sử dụng hàm sleep\n",
    "\n",
    "filename = '/home/duong/git/Biomechanics/dataset/sleep/patient_1/1b8c5226-d4ab-4ef6-b403-15a914548a6d.jpg'\n",
    "\n",
    "# Chessboard dimensions\n",
    "number_of_squares_X = 10\n",
    "number_of_squares_Y = 7\n",
    "nX = number_of_squares_X - 1\n",
    "nY = number_of_squares_Y - 1\n",
    "\n",
    "def main():\n",
    "    # Load an image\n",
    "    image = cv2.imread(filename)\n",
    "\n",
    "    # Convert the image to grayscale\n",
    "    gray = cv2.cvtColor(image, cv2.COLOR_BGR2GRAY)\n",
    "\n",
    "    # Find the corners on the chessboard\n",
    "    success, corners = cv2.findChessboardCorners(gray, (nY, nX), None)\n",
    "\n",
    "    # If the corners are found by the algorithm, draw them\n",
    "    if success == True:\n",
    "        # Draw the corners\n",
    "        cv2.drawChessboardCorners(image, (nY, nX), corners, success)\n",
    "\n",
    "        # Create the output file name by removing the '.jpg' part\n",
    "        size = len(filename)\n",
    "        new_filename = filename[:size - 4]\n",
    "        new_filename = new_filename + '_drawn_corners.jpg'\n",
    "\n",
    "        # Save the new image in the working directory\n",
    "        cv2.imwrite(new_filename, image)\n",
    "\n",
    "        # Display the image\n",
    "        cv2.imshow(\"Image\", image)\n",
    "\n",
    "        # Display the window for 3 seconds (3000 milliseconds)\n",
    "        cv2.waitKey(3000)\n",
    "\n",
    "        # Close all windows\n",
    "        cv2.destroyAllWindows()\n",
    "\n",
    "main()"
   ]
  },
  {
   "cell_type": "code",
   "execution_count": null,
   "id": "bd7eac49-be02-4f0f-9a24-35fb6af33a29",
   "metadata": {},
   "outputs": [],
   "source": []
  }
 ],
 "metadata": {
  "kernelspec": {
   "display_name": "Python 3 (ipykernel)",
   "language": "python",
   "name": "python3"
  },
  "language_info": {
   "codemirror_mode": {
    "name": "ipython",
    "version": 3
   },
   "file_extension": ".py",
   "mimetype": "text/x-python",
   "name": "python",
   "nbconvert_exporter": "python",
   "pygments_lexer": "ipython3",
   "version": "3.10.7"
  }
 },
 "nbformat": 4,
 "nbformat_minor": 5
}
