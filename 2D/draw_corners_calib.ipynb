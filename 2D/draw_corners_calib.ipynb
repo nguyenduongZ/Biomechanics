{
 "cells": [
  {
   "cell_type": "code",
   "execution_count": 2,
   "id": "d0683a6b-6601-4856-9499-ce522712d117",
   "metadata": {},
   "outputs": [
    {
     "name": "stderr",
     "output_type": "stream",
     "text": [
      "[ WARN:0@39.512] global loadsave.cpp:248 findDecoder imread_('/home/duong/git/Biomechanics/dataset/sleep/patient_1/1b8c5226-d4ab-4ef6-b403-15a914548a6d.jpg'): can't open/read file: check file path/integrity\n"
     ]
    },
    {
     "ename": "error",
     "evalue": "OpenCV(4.9.0) /io/opencv/modules/imgproc/src/color.cpp:196: error: (-215:Assertion failed) !_src.empty() in function 'cvtColor'\n",
     "output_type": "error",
     "traceback": [
      "\u001b[0;31m---------------------------------------------------------------------------\u001b[0m",
      "\u001b[0;31merror\u001b[0m                                     Traceback (most recent call last)",
      "Cell \u001b[0;32mIn[2], line 50\u001b[0m\n\u001b[1;32m     47\u001b[0m         \u001b[38;5;66;03m# Close all windows\u001b[39;00m\n\u001b[1;32m     48\u001b[0m         cv2\u001b[38;5;241m.\u001b[39mdestroyAllWindows()\n\u001b[0;32m---> 50\u001b[0m \u001b[43mmain\u001b[49m\u001b[43m(\u001b[49m\u001b[43m)\u001b[49m\n",
      "Cell \u001b[0;32mIn[2], line 23\u001b[0m, in \u001b[0;36mmain\u001b[0;34m()\u001b[0m\n\u001b[1;32m     20\u001b[0m image \u001b[38;5;241m=\u001b[39m cv2\u001b[38;5;241m.\u001b[39mimread(filename)\n\u001b[1;32m     22\u001b[0m \u001b[38;5;66;03m# Convert the image to grayscale\u001b[39;00m\n\u001b[0;32m---> 23\u001b[0m gray \u001b[38;5;241m=\u001b[39m \u001b[43mcv2\u001b[49m\u001b[38;5;241;43m.\u001b[39;49m\u001b[43mcvtColor\u001b[49m\u001b[43m(\u001b[49m\u001b[43mimage\u001b[49m\u001b[43m,\u001b[49m\u001b[43m \u001b[49m\u001b[43mcv2\u001b[49m\u001b[38;5;241;43m.\u001b[39;49m\u001b[43mCOLOR_BGR2GRAY\u001b[49m\u001b[43m)\u001b[49m\n\u001b[1;32m     25\u001b[0m \u001b[38;5;66;03m# Find the corners on the chessboard\u001b[39;00m\n\u001b[1;32m     26\u001b[0m success, corners \u001b[38;5;241m=\u001b[39m cv2\u001b[38;5;241m.\u001b[39mfindChessboardCorners(gray, (nY, nX), \u001b[38;5;28;01mNone\u001b[39;00m)\n",
      "\u001b[0;31merror\u001b[0m: OpenCV(4.9.0) /io/opencv/modules/imgproc/src/color.cpp:196: error: (-215:Assertion failed) !_src.empty() in function 'cvtColor'\n"
     ]
    }
   ],
   "source": [
    "from scipy.spatial.distance import euclidean\n",
    "from imutils import perspective\n",
    "from imutils import contours\n",
    "import numpy as np\n",
    "import imutils\n",
    "import cv2\n",
    "import matplotlib.pyplot as plt  # Thêm import\n",
    "import time  # Thêm thư viện time để sử dụng hàm sleep\n",
    "\n",
    "filename = '/home/duong/git/Biomechanics/dataset/sleep/patient_1/1b8c5226-d4ab-4ef6-b403-15a914548a6d.jpg'\n",
    "\n",
    "# Chessboard dimensions\n",
    "number_of_squares_X = 10\n",
    "number_of_squares_Y = 7\n",
    "nX = number_of_squares_X - 1\n",
    "nY = number_of_squares_Y - 1\n",
    "\n",
    "def main():\n",
    "    # Load an image\n",
    "    image = cv2.imread(filename)\n",
    "\n",
    "    # Convert the image to grayscale\n",
    "    gray = cv2.cvtColor(image, cv2.COLOR_BGR2GRAY)\n",
    "\n",
    "    # Find the corners on the chessboard\n",
    "    success, corners = cv2.findChessboardCorners(gray, (nY, nX), None)\n",
    "\n",
    "    # If the corners are found by the algorithm, draw them\n",
    "    if success == True:\n",
    "        # Draw the corners\n",
    "        cv2.drawChessboardCorners(image, (nY, nX), corners, success)\n",
    "\n",
    "        # Create the output file name by removing the '.jpg' part\n",
    "        size = len(filename)\n",
    "        new_filename = filename[:size - 4]\n",
    "        new_filename = new_filename + '_drawn_corners.jpg'\n",
    "\n",
    "        # Save the new image in the working directory\n",
    "        cv2.imwrite(new_filename, image)\n",
    "\n",
    "        # Display the image\n",
    "        cv2.imshow(\"Image\", image)\n",
    "\n",
    "        # Display the window for 3 seconds (3000 milliseconds)\n",
    "        cv2.waitKey(3000)\n",
    "\n",
    "        # Close all windows\n",
    "        cv2.destroyAllWindows()\n",
    "\n",
    "main()"
   ]
  },
  {
   "cell_type": "code",
   "execution_count": null,
   "id": "bd7eac49-be02-4f0f-9a24-35fb6af33a29",
   "metadata": {},
   "outputs": [],
   "source": []
  }
 ],
 "metadata": {
  "kernelspec": {
   "display_name": "Python 3 (ipykernel)",
   "language": "python",
   "name": "python3"
  },
  "language_info": {
   "codemirror_mode": {
    "name": "ipython",
    "version": 3
   },
   "file_extension": ".py",
   "mimetype": "text/x-python",
   "name": "python",
   "nbconvert_exporter": "python",
   "pygments_lexer": "ipython3",
   "version": "3.10.7"
  }
 },
 "nbformat": 4,
 "nbformat_minor": 5
}
